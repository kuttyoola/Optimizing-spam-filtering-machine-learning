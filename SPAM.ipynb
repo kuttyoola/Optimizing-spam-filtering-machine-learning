{
  "cells": [
    {
      "cell_type": "markdown",
      "metadata": {
        "id": "view-in-github",
        "colab_type": "text"
      },
      "source": [
        "<a href=\"https://colab.research.google.com/github/kuttyoola/Optimizing-spam-filtering-machine-learning/blob/main/SPAM.ipynb\" target=\"_parent\"><img src=\"https://colab.research.google.com/assets/colab-badge.svg\" alt=\"Open In Colab\"/></a>"
      ]
    },
    {
      "cell_type": "code",
      "execution_count": null,
      "metadata": {
        "id": "WuZTYG3u2OyN"
      },
      "outputs": [],
      "source": []
    },
    {
      "cell_type": "markdown",
      "metadata": {
        "id": "RXcF0yaa4uLA"
      },
      "source": [
        "**importing the libraries **"
      ]
    },
    {
      "cell_type": "code",
      "execution_count": null,
      "metadata": {
        "colab": {
          "background_save": true
        },
        "id": "lkR11P1Cmzvg"
      },
      "outputs": [],
      "source": [
        "import numpy as np\n",
        "import pandas as pd\n",
        "import matplotlib.pyplot as ply\n",
        "import nltk\n",
        "from nltk.corpus import stopwords\n",
        "from nltk.stem.porter import PorterStemmer"
      ]
    },
    {
      "cell_type": "markdown",
      "metadata": {
        "id": "Tt9jo_XynCIT"
      },
      "source": [
        "**read the dataset**"
      ]
    },
    {
      "cell_type": "code",
      "execution_count": null,
      "metadata": {
        "id": "Ox3IankEnIov"
      },
      "outputs": [],
      "source": [
        "df = pd.read_csv(\"spam.csv\",encoding=\"latin\")\n",
        "df.head()"
      ]
    },
    {
      "cell_type": "markdown",
      "metadata": {
        "id": "oPKc9JwHoEVg"
      },
      "source": [
        "**handling missing values **"
      ]
    },
    {
      "cell_type": "code",
      "execution_count": null,
      "metadata": {
        "id": "196jyyjNoNoo"
      },
      "outputs": [],
      "source": [
        "df.info()"
      ]
    },
    {
      "cell_type": "code",
      "execution_count": null,
      "metadata": {
        "id": "ggFe3BhYoZpN"
      },
      "outputs": [],
      "source": [
        "df.isna().sum()"
      ]
    },
    {
      "cell_type": "code",
      "execution_count": null,
      "metadata": {
        "id": "5Ciyk1iMEuJp"
      },
      "outputs": [],
      "source": [
        "({\"v1\":\"label\",\"v2\":\"1)text\"}, inplace=True, axis=df.rename"
      ]
    },
    {
      "cell_type": "code",
      "execution_count": null,
      "metadata": {
        "id": "Bu4wnpeAFJ9C"
      },
      "outputs": [],
      "source": [
        "df.tail() "
      ]
    },
    {
      "cell_type": "markdown",
      "metadata": {
        "id": "vgPr9TX8FO8x"
      },
      "source": [
        "**Handling categorical values**"
      ]
    },
    {
      "cell_type": "code",
      "execution_count": null,
      "metadata": {
        "id": "WHh8Xu6SFbjt"
      },
      "outputs": [],
      "source": [
        "from sklearn.preprocessing import LabelEncoder\n",
        "le = LabelEncoder() \n",
        "df['label'] = le.fit_transform(df ['label']) \n"
      ]
    },
    {
      "cell_type": "markdown",
      "metadata": {
        "id": "R1zFvCLsFzcE"
      },
      "source": [
        "**Handlinig categorical values **"
      ]
    },
    {
      "cell_type": "code",
      "execution_count": null,
      "metadata": {
        "id": "C9sYTJvMF2qw"
      },
      "outputs": [],
      "source": [
        " from sklearn.model_selection import train_test_split \n",
        "x_train, x_test, y_train, y_test = train_test_split(x, y, test_size = 0.20, random_state = 0) \n"
      ]
    },
    {
      "cell_type": "code",
      "execution_count": null,
      "metadata": {
        "id": "Hyinhrw1GJf-"
      },
      "outputs": [],
      "source": [
        "print(\"Before Oversampling, counts of label '1': ()\".format(sun(y train = 1))) \n",
        "print(\"Before Oversampling, counts of label 'o': () \\n\".format(sunty train 0)))\n",
        "\n",
        "from imblearn.over_sampling import SMOTE\n",
        "Sm=SMOTE (random_state= 2)\n",
        "x_train_res, y_train_res sm.fit_resample(x_train, y_train.ravel())\n",
        "\n",
        "print('After OverSampling, the shape of train X: {}'.format(x_train_res.shape))\n",
        "print(\"After OverSampling, the shape of train_y: ( \\n'.format(y_train_res.shape))\n",
        "\n",
        "print(\"After Oversampling, counts of label '1': {}\".format(sum(y_train_res == 1))) \n",
        "print(\"After Oversampling, counts of label 'o : ()\".format(sum(y train res == 0)))\n",
        "\n"
      ]
    },
    {
      "cell_type": "markdown",
      "metadata": {
        "id": "LmZpCQCTGiw0"
      },
      "source": [
        "**Cleaning the text data**"
      ]
    },
    {
      "cell_type": "code",
      "execution_count": null,
      "metadata": {
        "colab": {
          "base_uri": "https://localhost:8080/"
        },
        "id": "uYmQepsxGyj4",
        "outputId": "838587d9-7a2b-4ee4-f1a0-f62f7b7d1d9e"
      },
      "outputs": [
        {
          "name": "stderr",
          "output_type": "stream",
          "text": [
            "[nltk_data] Downloading package stopwords to /root/nltk_data...\n",
            "[nltk_data]   Unzipping corpora/stopwords.zip.\n"
          ]
        },
        {
          "data": {
            "text/plain": [
              "True"
            ]
          },
          "execution_count": 16,
          "metadata": {},
          "output_type": "execute_result"
        }
      ],
      "source": [
        "nltk.download(\"stopwords\")\n",
        "\n",
        "\n"
      ]
    },
    {
      "cell_type": "code",
      "execution_count": null,
      "metadata": {
        "colab": {
          "background_save": true
        },
        "id": "2K0HS4C3Gtyw"
      },
      "outputs": [],
      "source": [
        "import nltk\n",
        "from nltk.corpus import stopwords\n",
        "from nltk.stem import PorterStemmer\n"
      ]
    },
    {
      "cell_type": "code",
      "execution_count": null,
      "metadata": {
        "id": "YCHdcRGHHbYp"
      },
      "outputs": [],
      "source": [
        "isport re\n",
        "corpus = []\n",
        "length = len(df)\n"
      ]
    },
    {
      "cell_type": "code",
      "execution_count": null,
      "metadata": {
        "id": "iWOAp3ErHdsV"
      },
      "outputs": [],
      "source": []
    },
    {
      "cell_type": "code",
      "execution_count": null,
      "metadata": {
        "id": "Pty8J_pLHjPV"
      },
      "outputs": [],
      "source": [
        "corpus"
      ]
    },
    {
      "cell_type": "code",
      "execution_count": null,
      "metadata": {
        "id": "lBIeetKdHnhh"
      },
      "outputs": [],
      "source": [
        "from = sklearn.feature extraction.text import Countvectorizer \n",
        "cv = Countvectorizer (max _features=35000) \n",
        "X = cv.fit_ transform(corpus).toarray()\n"
      ]
    },
    {
      "cell_type": "code",
      "execution_count": null,
      "metadata": {
        "id": "IFhpS0FeHq0a"
      },
      "outputs": [],
      "source": [
        "\n",
        "Import pickle \n",
        "Pickle.dump(cv, open(‘cv1.pkl’,’wb’))\n"
      ]
    },
    {
      "cell_type": "markdown",
      "metadata": {
        "id": "Yb_RHoihHumm"
      },
      "source": [
        "**Exploratory Data Analysis**"
      ]
    },
    {
      "cell_type": "code",
      "execution_count": null,
      "metadata": {
        "id": "nHwJqPJWH0Iu"
      },
      "outputs": [],
      "source": [
        "df.describe()"
      ]
    },
    {
      "cell_type": "code",
      "execution_count": null,
      "metadata": {
        "id": "mlIw63tQH4xG"
      },
      "outputs": [],
      "source": [
        "df[\"label\").value_counts().plot(kind=\"bar\", figsize=(12,6)) \n",
        "plt.xticks(np.arange(2), ('Non spam', 'spam), rotation=e);\n"
      ]
    },
    {
      "cell_type": "code",
      "execution_count": null,
      "metadata": {
        "id": "zHrHxEyGH9cm"
      },
      "outputs": [],
      "source": [
        "from sklearn.model_selection import train_test_split\n",
        "X_train, X_trst, y_train = train_test_split(x,y, test_size = 0.20, random_state = 0)\n"
      ]
    },
    {
      "cell_type": "markdown",
      "metadata": {
        "id": "niH-gddWIOrZ"
      },
      "source": [
        "**Team Building**"
      ]
    },
    {
      "cell_type": "code",
      "execution_count": null,
      "metadata": {
        "id": "AOaO2owBIWMX"
      },
      "outputs": [],
      "source": [
        " from sklearn.tree import DecisionTreeclassifier\n",
        "model = DecisionTreeClassifier ()\n",
        "model.fit (X_train res, y_train_res)\n"
      ]
    },
    {
      "cell_type": "code",
      "execution_count": null,
      "metadata": {
        "id": "4ID1f5pgIZ1r"
      },
      "outputs": [],
      "source": [
        "eClassifier()DecisionTreeclassifier\n",
        "DecisionTre\n"
      ]
    },
    {
      "cell_type": "code",
      "execution_count": null,
      "metadata": {
        "id": "7RryfmKuIdzm"
      },
      "outputs": [],
      "source": [
        " from sklearn.ensemble import Random Forestclassifier\n",
        "nodel1 =RandomForestclassifier()\n",
        "model1.fit (X_train_res, y_train res)\n"
      ]
    },
    {
      "cell_type": "code",
      "execution_count": null,
      "metadata": {
        "id": "ZM4UDTPnIihS"
      },
      "outputs": [],
      "source": [
        " RandomForestClassifier\n",
        "RandomForestclassifier()\n"
      ]
    },
    {
      "cell_type": "code",
      "execution_count": null,
      "metadata": {
        "colab": {
          "background_save": true
        },
        "id": "v1Qi5YbGIp4Z",
        "outputId": "693787f8-ea39-4d9a-a0e9-601d67b70260"
      },
      "outputs": [
        {
          "ename": "SyntaxError",
          "evalue": "ignored",
          "output_type": "error",
          "traceback": [
            "\u001b[0;36m  File \u001b[0;32m\"<ipython-input-39-330b13392bbb>\"\u001b[0;36m, line \u001b[0;32m1\u001b[0m\n\u001b[0;31m    From sklearn.naive_bayes import MultinomialNB\u001b[0m\n\u001b[0m         ^\u001b[0m\n\u001b[0;31mSyntaxError\u001b[0m\u001b[0;31m:\u001b[0m invalid syntax\n"
          ]
        }
      ],
      "source": [
        "From sklearn.naive_bayes import MultinomialNB\n",
        "Model=MultinomialNB ()\n"
      ]
    },
    {
      "cell_type": "code",
      "execution_count": null,
      "metadata": {
        "id": "oTJgpS-2IsWB"
      },
      "outputs": [],
      "source": [
        "model.fit (X_train_res, y_train_res)"
      ]
    },
    {
      "cell_type": "code",
      "execution_count": null,
      "metadata": {
        "id": "lwz1RbOwI7rk"
      },
      "outputs": [],
      "source": [
        "MultinomialNB\n",
        "model = MultinomialNB ()\n"
      ]
    },
    {
      "cell_type": "code",
      "execution_count": null,
      "metadata": {
        "id": "qRzmZsKmJAV3"
      },
      "outputs": [],
      "source": [
        "From tensorflow.keras.models sequential\n",
        "From tensorflow.keras.layers import Dense\n"
      ]
    },
    {
      "cell_type": "code",
      "execution_count": null,
      "metadata": {
        "id": "T3kzmpZrJIUf"
      },
      "outputs": [],
      "source": [
        "model = Sequential()"
      ]
    },
    {
      "cell_type": "code",
      "execution_count": null,
      "metadata": {
        "id": "0-U_TJwVJLWn"
      },
      "outputs": [],
      "source": [
        " X train.shape"
      ]
    },
    {
      "cell_type": "code",
      "execution_count": null,
      "metadata": {
        "id": "4xCIs4QxJOgI"
      },
      "outputs": [],
      "source": [
        "model.add(Dense(units = X_train res.shape[1],activation=\"relu\",kernel_ initializer=\"randon_ uniform\"))\n"
      ]
    },
    {
      "cell_type": "code",
      "execution_count": null,
      "metadata": {
        "id": "d6nPkA_dJThu"
      },
      "outputs": [],
      "source": [
        "model.add(Dense(units=100, activation=\"relu\",kernel_initializer=\"random _uniform\"))\n"
      ]
    },
    {
      "cell_type": "code",
      "execution_count": null,
      "metadata": {
        "id": "yFdnJwrRJXHr"
      },
      "outputs": [],
      "source": [
        "model.add(Dense(units=100, activation=\"relu\",kernel_initializer=\"random _uniform\"))\n"
      ]
    },
    {
      "cell_type": "code",
      "execution_count": null,
      "metadata": {
        "id": "_FF-L9FlJZy2"
      },
      "outputs": [],
      "source": [
        "model.add (Dense (units=I, activation=\"sigmoid\"))\n"
      ]
    },
    {
      "cell_type": "code",
      "execution_count": null,
      "metadata": {
        "id": "nlG8rvxGJcBX"
      },
      "outputs": [],
      "source": [
        "mOdel.compile(optimizer=\"adan\", loss=\"binary crossentropy\",metrics=['accuracy' ])\n"
      ]
    },
    {
      "cell_type": "code",
      "execution_count": null,
      "metadata": {
        "id": "ZDuvZcyEJfXl"
      },
      "outputs": [],
      "source": [
        "generator = model.fit(X_train res,y_ train_ res,epochs=10, steps_per_epoch=len(X_train_res)//64)\n"
      ]
    },
    {
      "cell_type": "code",
      "execution_count": null,
      "metadata": {
        "id": "G1UuqwSsJnL0"
      },
      "outputs": [],
      "source": [
        "generator = model.fit(X_train res,y_ train_ res,epochs=10, steps_per_epoch=len(X_train_res)//64)\n"
      ]
    },
    {
      "cell_type": "code",
      "execution_count": null,
      "metadata": {
        "id": "WYtt7EcDJpH7"
      },
      "outputs": [],
      "source": [
        "Y_pred\n",
        "y_pred=model.predict (x_test)\n",
        "\n"
      ]
    },
    {
      "cell_type": "code",
      "execution_count": null,
      "metadata": {
        "id": "3qfZ5zrTJt5c"
      },
      "outputs": [],
      "source": [
        "y_pr = np.where (y pred>0.5, 1,0)"
      ]
    },
    {
      "cell_type": "code",
      "execution_count": null,
      "metadata": {
        "id": "Z9exAUgTJx9Q"
      },
      "outputs": [],
      "source": [
        "y_test"
      ]
    },
    {
      "cell_type": "code",
      "execution_count": null,
      "metadata": {
        "id": "3lW2PBZ2J3wQ"
      },
      "outputs": [],
      "source": [
        "from sklearn . metrics import confusion _matrix, accuracy_Score\n",
        "cm = confusion_matrix(y_test, y_pr)\n",
        "score = accuracy_score(y_test,y_pr)\n",
        "print (cm)\n",
        "print('ACcuracy 5core Is:-  ‘ ,score*100)\n"
      ]
    },
    {
      "cell_type": "code",
      "execution_count": null,
      "metadata": {
        "id": "9qf-Hi8lJ8-y"
      },
      "outputs": [],
      "source": [
        "def new review(new_review):\n",
        "new_ review= new-review\n",
        "new_review = re.sub(^a-zA-Z]’,   ‘   ‘,  new_review)     \n",
        "new_review = new_review.lower()\n",
        "new_review = new_ review.split()\n",
        "ps = Porterstemmer()\n",
        "all_stopwords = stopwords . words ('english’)\n",
        "all _stopwords .remove('not')\n",
        "new_review = [ps.stem(word) for word in new_review if not word in     set(all_stopwords)]\n",
        "new_review =’    ‘.join (new_review)\n",
        "new_corpus = [new _review]\n",
        "new_ X_ test = Cv.transform(new_corpus).toarray()\n",
        "print(new_X_test)\n",
        "new _y_pred = loaded model.predict (new_x_ test)\n",
        "print(new_y_ pred)\n",
        "new _X _pred = np.where(new _y_ pred>0.5,1,0)\n",
        "return new_ y_ pred\n",
        "new_review = new_review(str(input (\"Enter new review...”)))"
      ]
    },
    {
      "cell_type": "markdown",
      "metadata": {
        "id": "Y33qUNztKEs3"
      },
      "source": [
        "\n",
        "**Performance Testing & Hyperparameter Tuning**"
      ]
    },
    {
      "cell_type": "code",
      "execution_count": null,
      "metadata": {
        "id": "ho5493JvKLTO"
      },
      "outputs": [],
      "source": [
        "from sklearn.metrics import confusion_matrix, accuracy_score, classification_report\n",
        "cm = confusion_matrix(y_test, y_pred)\n",
        "Score = accuracy_ score (y_ test,y_ pred)\n",
        "print (cm)\n",
        "print('Accuracy Score Is Naive Bayes:-  ‘   ,score*100)\n"
      ]
    },
    {
      "cell_type": "code",
      "execution_count": null,
      "metadata": {
        "id": "AGr1gX5jKPAT"
      },
      "outputs": [],
      "source": [
        "cm = confusion_matrix(y_ test, y_pred)\n",
        "score = accuracy_score(y_test,y_pred)\n",
        "print (cm)\n",
        "print('Accuracy Score Is:-  ‘   ,score*100)\n",
        "cm1 = confusion_matrix(y_test, y_predi)\n",
        "scorel = accuracy_score (y_test,y_pred1)\n",
        "print (cm1)\n",
        "print('Accuracy Score Is:-  ‘  ,score1*100)\n"
      ]
    },
    {
      "cell_type": "code",
      "execution_count": null,
      "metadata": {
        "id": "6NDAbjTvKVDw"
      },
      "outputs": [],
      "source": [
        "from sklearn .metrics import confusion_matrix, accuracy_score\n",
        "cm = confusion_matrix(y_test, y_pr)\n",
        "Score = accuracy_score(y_test,y_pr)\n",
        "print (cm)\n",
        "print(‘ ACcuracy Score Is:- ‘, Score*100)\n"
      ]
    },
    {
      "cell_type": "code",
      "execution_count": null,
      "metadata": {
        "id": "egS45zq2KZpe"
      },
      "outputs": [],
      "source": [
        "from sklearn .metrics import confusion_matrix, accuracy_score\n",
        "cm = confusion_matrix(y_test, y_pr)\n",
        "Score = accuracy_score(y_test,y_pr)\n",
        "print (cm)\n",
        "print(‘ ACcuracy Score Is:- ‘, Score*100)\n"
      ]
    },
    {
      "cell_type": "markdown",
      "metadata": {
        "id": "qrJkhWahKeZb"
      },
      "source": [
        "**Model Deployment**"
      ]
    },
    {
      "cell_type": "code",
      "execution_count": null,
      "metadata": {
        "id": "KOz16azwKiYw"
      },
      "outputs": [],
      "source": [
        "Model.save(‘spam.h5’)"
      ]
    }
  ],
  "metadata": {
    "colab": {
      "provenance": [],
      "authorship_tag": "ABX9TyM3Vv4Y40dAb8Y7R2ZPQJT5",
      "include_colab_link": true
    },
    "kernelspec": {
      "display_name": "Python 3",
      "name": "python3"
    },
    "language_info": {
      "name": "python"
    }
  },
  "nbformat": 4,
  "nbformat_minor": 0
}